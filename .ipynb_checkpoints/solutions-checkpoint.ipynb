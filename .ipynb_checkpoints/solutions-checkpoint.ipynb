{
 "cells": [
  {
   "cell_type": "markdown",
   "id": "f6f26294",
   "metadata": {},
   "source": [
    "Imprime en consola Hello World."
   ]
  },
  {
   "cell_type": "code",
   "execution_count": 1,
   "id": "bc53ce36",
   "metadata": {},
   "outputs": [
    {
     "name": "stdout",
     "output_type": "stream",
     "text": [
      "'Hello World'\n"
     ]
    }
   ],
   "source": [
    "echo 'Hello World'"
   ]
  },
  {
   "cell_type": "markdown",
   "id": "9ad1c156",
   "metadata": {},
   "source": [
    "Crea un directorio nuevo llamado new_dir."
   ]
  },
  {
   "cell_type": "code",
   "execution_count": null,
   "id": "fc6ae1c1",
   "metadata": {},
   "outputs": [],
   "source": [
    "mkdir new_dir"
   ]
  },
  {
   "cell_type": "markdown",
   "id": "7f1905f1",
   "metadata": {},
   "source": [
    "Elimina ese directorio."
   ]
  },
  {
   "cell_type": "code",
   "execution_count": null,
   "id": "aa919bbf",
   "metadata": {},
   "outputs": [],
   "source": [
    "del new_dir"
   ]
  },
  {
   "cell_type": "markdown",
   "id": "4c3cab3a",
   "metadata": {},
   "source": [
    "Copia el archivo sed.txt dentro de la carpeta lorem a la carpeta lorem-copy. TIP: Puede ser necesario crear la carpeta lorem-copy primero."
   ]
  },
  {
   "cell_type": "code",
   "execution_count": null,
   "id": "507c04f1",
   "metadata": {},
   "outputs": [],
   "source": [
    "mkdir lorem-copy\n",
    "cd loren\n",
    "cp sed.txt C:\\Users\\elmat\\IRONHACK\\Labs\\1.1-lab-bash\\lorem-copy\n",
    "\n"
   ]
  },
  {
   "cell_type": "markdown",
   "id": "143de87b",
   "metadata": {},
   "source": [
    "Copia los otros dos archivos de la carpeta lorem a la carpeta lorem-copy en una sola línea."
   ]
  },
  {
   "cell_type": "code",
   "execution_count": null,
   "id": "34101ce9",
   "metadata": {},
   "outputs": [],
   "source": [
    "#Usando powershell no me permite hacerlo en una sola línea\n",
    "cp at.txt C:\\Users\\elmat\\IRONHACK\\Labs\\1.1-lab-bash\\lorem-copy\n",
    "cp lorem.txt C:\\Users\\elmat\\IRONHACK\\Labs\\1.1-lab-bash\\lorem-copy"
   ]
  },
  {
   "cell_type": "markdown",
   "id": "09f3c4c0",
   "metadata": {},
   "source": [
    "Muestra el contenido del archivo sed.txt dentro de la carpeta lorem."
   ]
  },
  {
   "cell_type": "code",
   "execution_count": null,
   "id": "5ffac666",
   "metadata": {},
   "outputs": [],
   "source": [
    "get-content sed.txt"
   ]
  },
  {
   "cell_type": "markdown",
   "id": "7347b669",
   "metadata": {},
   "source": [
    "Muestra el contenido de los archivos at.txt y lorem.txt dentro de la carpeta lorem."
   ]
  },
  {
   "cell_type": "code",
   "execution_count": null,
   "id": "5590091b",
   "metadata": {},
   "outputs": [],
   "source": [
    "#Usando powershell no me permite hacerlo en una sola línea\n",
    "gc at.txt \n",
    "gc lorem.txt "
   ]
  },
  {
   "cell_type": "markdown",
   "id": "2ffced15",
   "metadata": {},
   "source": [
    "Visualiza las primeras 3 líneas del archivo sed.txt dentro de la carpeta lorem-copy"
   ]
  },
  {
   "cell_type": "code",
   "execution_count": null,
   "id": "f0b40d89",
   "metadata": {},
   "outputs": [],
   "source": [
    "get-content sed.txt | select-object -first 3"
   ]
  },
  {
   "cell_type": "markdown",
   "id": "3206b2da",
   "metadata": {},
   "source": [
    "Visualiza las ultimas 3 líneas del archivo sed.txt dentro de la carpeta lorem-copy"
   ]
  },
  {
   "cell_type": "code",
   "execution_count": null,
   "id": "ded238ca",
   "metadata": {},
   "outputs": [],
   "source": [
    "get-content sed.txt | select-object -last 3"
   ]
  },
  {
   "cell_type": "markdown",
   "id": "4c39f9b3",
   "metadata": {},
   "source": [
    "Añade Homo homini lupus. al final de archivo sed.txt dentro de la carpeta lorem-copy."
   ]
  },
  {
   "cell_type": "code",
   "execution_count": null,
   "id": "d41974ea",
   "metadata": {},
   "outputs": [],
   "source": [
    "Add-Content sed.txt \"Homo homini lupus.\""
   ]
  },
  {
   "cell_type": "markdown",
   "id": "35b1bfe0",
   "metadata": {},
   "source": [
    "Visualiza las últimas 3 líneas del archivo sed.txt dentro de la carpeta lorem-copy. Deberías ver ahora Homo homini lupus.."
   ]
  },
  {
   "cell_type": "code",
   "execution_count": null,
   "id": "9a4630ae",
   "metadata": {},
   "outputs": [],
   "source": [
    "get-content sed.txt | select-object -last 3"
   ]
  },
  {
   "cell_type": "markdown",
   "id": "07e28279",
   "metadata": {},
   "source": [
    "Sustituye todas las apariciones de et por ET del archivo at.txt dentro de la carpeta lorem-copy. Deberás usar sed."
   ]
  },
  {
   "cell_type": "code",
   "execution_count": null,
   "id": "d10a0797",
   "metadata": {},
   "outputs": [],
   "source": [
    "(Get-Content sed.txt) -replace \"et\", \"ET\" | Set-Content sed.txt"
   ]
  },
  {
   "cell_type": "markdown",
   "id": "f3933125",
   "metadata": {},
   "source": [
    "Encuentra al usuario activo en el sistema."
   ]
  },
  {
   "cell_type": "code",
   "execution_count": null,
   "id": "65a215ce",
   "metadata": {},
   "outputs": [],
   "source": [
    "whoami"
   ]
  },
  {
   "cell_type": "markdown",
   "id": "5e17c357",
   "metadata": {},
   "source": [
    "Encuentra dónde estás en tu sistema de ficheros."
   ]
  },
  {
   "cell_type": "code",
   "execution_count": null,
   "id": "60bc8e3d",
   "metadata": {},
   "outputs": [],
   "source": [
    "pwd"
   ]
  },
  {
   "cell_type": "markdown",
   "id": "5eafe207",
   "metadata": {},
   "source": [
    "Lista los archivos que terminan por .txt en la carpeta lorem."
   ]
  },
  {
   "cell_type": "code",
   "execution_count": null,
   "id": "2770e64f",
   "metadata": {},
   "outputs": [],
   "source": [
    "Get-ChildItem  -File -Name -Include *.txt"
   ]
  },
  {
   "cell_type": "markdown",
   "id": "2cca6210",
   "metadata": {},
   "source": [
    "Cuenta el número de líneas que tiene el archivo sed.txt dentro de la carpeta lorem."
   ]
  },
  {
   "cell_type": "code",
   "execution_count": null,
   "id": "9e39fab1",
   "metadata": {},
   "outputs": [],
   "source": [
    "(Get-Content sed.txt | Measure-Object -Line).Lines"
   ]
  },
  {
   "cell_type": "markdown",
   "id": "c699c806",
   "metadata": {},
   "source": [
    "Cuenta el número de archivos que empiezan por lorem que están en este directorio y en directorios internos."
   ]
  },
  {
   "cell_type": "code",
   "execution_count": null,
   "id": "cfc5cc14",
   "metadata": {},
   "outputs": [],
   "source": [
    "(ls -filter \"lorem*\" -Recurse).count"
   ]
  },
  {
   "cell_type": "markdown",
   "id": "3445b971",
   "metadata": {},
   "source": [
    "Encuentra todas las apariciones de et en at.txt dentro de la carpeta lorem."
   ]
  },
  {
   "cell_type": "code",
   "execution_count": null,
   "id": "07e71087",
   "metadata": {},
   "outputs": [],
   "source": [
    "findstr /s /n \"et\" at.txt"
   ]
  },
  {
   "cell_type": "markdown",
   "id": "6ff7a2a2",
   "metadata": {},
   "source": [
    "Cuenta el número de apariciones del string et en at.txt dentro de la carpeta lorem."
   ]
  },
  {
   "cell_type": "code",
   "execution_count": null,
   "id": "e99282a8",
   "metadata": {},
   "outputs": [],
   "source": [
    "(Select-String at.txt -Pattern \"et\" -AllMatches).Matches.Count"
   ]
  },
  {
   "cell_type": "markdown",
   "id": "7d7cd3de",
   "metadata": {},
   "source": [
    "Cuenta el número de apariciones del string et en todos los archivos del directorio lorem-copy."
   ]
  },
  {
   "cell_type": "code",
   "execution_count": null,
   "id": "c8343117",
   "metadata": {},
   "outputs": [],
   "source": [
    "$etCount = 0\n",
    "Get-ChildItem -Recurse -File | ForEach-Object {\n",
    "    $etCount += (Select-String -Path $_.FullName -Pattern \"et\" -AllMatches).Matches.Count\n",
    "}\n",
    "\n",
    "Write-Host \"$etCount\""
   ]
  }
 ],
 "metadata": {
  "kernelspec": {
   "display_name": "Python 3 (ipykernel)",
   "language": "python",
   "name": "python3"
  },
  "language_info": {
   "codemirror_mode": {
    "name": "ipython",
    "version": 3
   },
   "file_extension": ".py",
   "mimetype": "text/x-python",
   "name": "python",
   "nbconvert_exporter": "python",
   "pygments_lexer": "ipython3",
   "version": "3.9.13"
  }
 },
 "nbformat": 4,
 "nbformat_minor": 5
}
